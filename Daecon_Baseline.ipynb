{
  "nbformat": 4,
  "nbformat_minor": 0,
  "metadata": {
    "colab": {
      "name": "Daecon_Baseline.ipynb",
      "provenance": [],
      "collapsed_sections": [],
      "include_colab_link": true
    },
    "kernelspec": {
      "name": "python3",
      "display_name": "Python 3"
    }
  },
  "cells": [
    {
      "cell_type": "markdown",
      "metadata": {
        "id": "view-in-github",
        "colab_type": "text"
      },
      "source": [
        "<a href=\"https://colab.research.google.com/github/piantic/Santander-Product-Recommendation-Competition/blob/master/Daecon_Baseline.ipynb\" target=\"_parent\"><img src=\"https://colab.research.google.com/assets/colab-badge.svg\" alt=\"Open In Colab\"/></a>"
      ]
    },
    {
      "cell_type": "markdown",
      "metadata": {
        "id": "yPdyQ6zVEli2",
        "colab_type": "text"
      },
      "source": [
        "#Table of Contents\n",
        "\n",
        "- Data Load\n",
        " - Cover time type to datetime\n",
        "- Missing Values\n",
        "- Average Score\n",
        " - Evaluation"
      ]
    },
    {
      "cell_type": "code",
      "metadata": {
        "id": "c6oNkEogE3Dx",
        "colab_type": "code",
        "colab": {}
      },
      "source": [
        "import pandas as pd\n",
        "import numpy as np\n",
        "import pandas_profiling\n",
        "\n",
        "import matplotlib.pyplot as plt\n",
        "import seaborn as sns\n",
        "sns.set_style('whitegrid')\n",
        "\n",
        "import missingno as msno"
      ],
      "execution_count": 0,
      "outputs": []
    },
    {
      "cell_type": "markdown",
      "metadata": {
        "id": "WbFGDzP_FUFQ",
        "colab_type": "text"
      },
      "source": [
        "#Data Load"
      ]
    },
    {
      "cell_type": "code",
      "metadata": {
        "id": "V4wI7_d-FWqr",
        "colab_type": "code",
        "colab": {}
      },
      "source": [
        "train = pd.read_csv('../DATA/contenst_data(20190927)/train.csv')\n",
        "test = pd.read_csv('../DATA/contenst_data(20190927)/test.csv')\n",
        "submission = pd.read_csv('../DATA/contenst_data(20190927)/submission_1002.csv')\n",
        "print('train shape : ',train.shape)\n",
        "print('test shape : ',train.shape)\n",
        "print('submission shape : ',submission.shape)"
      ],
      "execution_count": 0,
      "outputs": []
    },
    {
      "cell_type": "markdown",
      "metadata": {
        "id": "kF1tMUL-GP_M",
        "colab_type": "text"
      },
      "source": [
        "#Convert time type to datetime"
      ]
    },
    {
      "cell_type": "code",
      "metadata": {
        "id": "kn-Bm6llGOWz",
        "colab_type": "code",
        "colab": {}
      },
      "source": [
        "#Convert time type to datetime\n",
        "train['Time'] = pd.to_datetime(train.Time)\n",
        "train = train.set_index('Time')\n",
        "\n",
        "test['Time'] = pd.to_datetime(test.Time)\n",
        "test = test.set_index('Time')"
      ],
      "execution_count": 0,
      "outputs": []
    },
    {
      "cell_type": "markdown",
      "metadata": {
        "id": "zq1btYmPGWNr",
        "colab_type": "text"
      },
      "source": [
        "#Missing Values"
      ]
    },
    {
      "cell_type": "code",
      "metadata": {
        "id": "h6UE98ulGYt0",
        "colab_type": "code",
        "colab": {}
      },
      "source": [
        "_, ax = plt.subplots(1, 2, figsize=(15,5))\n",
        "sns.distplot(train.isnull().mean(axis=0), ax=ax[0])\n",
        "ax[0].set_title('Distribution of Missing Values Percentage in Train Set')\n",
        "\n",
        "sns.distplot(test.isnull().mean(axis=0), ax=ax[1])\n",
        "ax[1].set_title('Distribution of Missing Values Percentage in Test Set')\n",
        "plt.show()"
      ],
      "execution_count": 0,
      "outputs": []
    },
    {
      "cell_type": "markdown",
      "metadata": {
        "id": "fMY6slnRG3OF",
        "colab_type": "text"
      },
      "source": [
        "#Average Score"
      ]
    },
    {
      "cell_type": "code",
      "metadata": {
        "id": "11i_-Q_YG57E",
        "colab_type": "code",
        "colab": {}
      },
      "source": [
        "answer = test.median(axis=0).sort_index()\n",
        "\n",
        "months = np.zeros((answer.shape[0], 5))\n",
        "months[:,0] = answoer * 30\n",
        "months[:,1] = answoer * 31\n",
        "months[:,2] = answoer * 31\n",
        "months[:,3] = answoer * 30\n",
        "months[:,4] = answoer * 31\n",
        "\n",
        "avg_submission = submission.copy()\n",
        "avg_submission = avg_submission.set_index('meter_id')\n",
        "for i in range(24):\n",
        "  avg_submission.iloc[:,i] = answer\n",
        "for i in range(10):\n",
        "  avg_submission.iloc[:,24+i] = answer * 24\n",
        "avg_submission.iloc[:,34:] = months"
      ],
      "execution_count": 0,
      "outputs": []
    },
    {
      "cell_type": "code",
      "metadata": {
        "id": "WPVJrtOkH3k3",
        "colab_type": "code",
        "colab": {}
      },
      "source": [
        "avg_submission.head()"
      ],
      "execution_count": 0,
      "outputs": []
    }
  ]
}